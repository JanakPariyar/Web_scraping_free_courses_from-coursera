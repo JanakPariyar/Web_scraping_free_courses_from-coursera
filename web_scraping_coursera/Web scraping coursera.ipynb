{
 "cells": [
  {
   "cell_type": "code",
   "execution_count": 1,
   "id": "13b0953b",
   "metadata": {},
   "outputs": [],
   "source": [
    "import requests\n",
    "from bs4 import BeautifulSoup as bs\n",
    "import regex as re"
   ]
  },
  {
   "cell_type": "code",
   "execution_count": 2,
   "id": "ab669cf8",
   "metadata": {},
   "outputs": [],
   "source": [
    "list_inputs=['https://www.coursera.org/projects/']"
   ]
  },
  {
   "cell_type": "code",
   "execution_count": 8,
   "id": "e66363a7",
   "metadata": {},
   "outputs": [],
   "source": [
    "def process_input():\n",
    "    user_input = entry.get().lower().replace(' ', '%20')\n",
    "    page_number = 1\n",
    "    max_pages = 3\n",
    "    \n",
    "    while page_number <= max_pages:\n",
    "        query_url = f\"https://www.coursera.org/search?query={user_input}&page={page_number}&sortBy=BEST_MATCH\"\n",
    "        print(\"Page number:\", page_number)\n",
    "        r = requests.get(query_url)\n",
    "        print(\"Status code:\", r.status_code)\n",
    "        \n",
    "        if r.status_code == 200:\n",
    "            soup = bs(r.text, \"html.parser\")\n",
    "            course_titles = soup.find_all(\"h3\", class_=\"cds-CommonCard-title css-6ecy9b\")\n",
    "            \n",
    "            for title in course_titles:\n",
    "                title_text = title.text.lower().replace(' ', '-')\n",
    "                for input_url in list_inputs:\n",
    "                    url = f\"{input_url}{title_text}\"\n",
    "                    r2 = requests.get(url,allow_redirects=False)\n",
    "                    if (r2.status_code == 200):\n",
    "                        print(url)\n",
    "                        \n",
    "        \n",
    "        page_number += 1"
   ]
  },
  {
   "cell_type": "code",
   "execution_count": null,
   "id": "f296f36c",
   "metadata": {},
   "outputs": [
    {
     "name": "stdout",
     "output_type": "stream",
     "text": [
      "Page number: 1\n",
      "Status code: 200\n",
      "https://www.coursera.org/projects/introduction-to-microsoft-excel\n",
      "Page number: 2\n",
      "Status code: 200\n",
      "Page number: 3\n",
      "Status code: 200\n",
      "Page number: 1\n",
      "Status code: 200\n",
      "https://www.coursera.org/projects/data-science-challenge\n",
      "Page number: 2\n",
      "Status code: 200\n",
      "Page number: 3\n",
      "Status code: 200\n",
      "Page number: 1\n",
      "Status code: 200\n",
      "Page number: 2\n",
      "Status code: 200\n",
      "Page number: 3\n",
      "Status code: 200\n",
      "Page number: 1\n",
      "Status code: 200\n",
      "https://www.coursera.org/projects/build-a-full-website-using-wordpress\n",
      "https://www.coursera.org/projects/increase-seo-traffic-with-wordpress\n",
      "https://www.coursera.org/projects/introduction-to-microsoft-excel\n",
      "https://www.coursera.org/projects/create-an-online-presence-with-a-free-website-from-wordpress\n",
      "Page number: 2\n",
      "Status code: 200\n",
      "Page number: 3\n",
      "Status code: 200\n",
      "https://www.coursera.org/projects/working-with-bigquery\n"
     ]
    }
   ],
   "source": [
    "import tkinter as tk\n",
    "import re\n",
    "\n",
    "# Create a Tkinter window\n",
    "window = tk.Tk()\n",
    "window.title(\"Input Processor\")\n",
    "\n",
    "# Create an entry widget for user input\n",
    "entry = tk.Entry(window, width=30)\n",
    "entry.pack(pady=10)\n",
    "\n",
    "# Create a submit button\n",
    "submit_btn = tk.Button(window, text=\"Submit\", command=process_input)\n",
    "submit_btn.pack()\n",
    "\n",
    "# Run the Tkinter event loop\n",
    "window.mainloop()"
   ]
  }
 ],
 "metadata": {
  "kernelspec": {
   "display_name": "Python 3 (ipykernel)",
   "language": "python",
   "name": "python3"
  },
  "language_info": {
   "codemirror_mode": {
    "name": "ipython",
    "version": 3
   },
   "file_extension": ".py",
   "mimetype": "text/x-python",
   "name": "python",
   "nbconvert_exporter": "python",
   "pygments_lexer": "ipython3",
   "version": "3.11.5"
  }
 },
 "nbformat": 4,
 "nbformat_minor": 5
}
